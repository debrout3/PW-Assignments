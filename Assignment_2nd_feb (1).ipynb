{
 "cells": [
  {
   "cell_type": "code",
   "execution_count": 15,
   "id": "62b68ebb-90a8-472d-8e18-79e020cc902e",
   "metadata": {},
   "outputs": [
    {
     "name": "stdout",
     "output_type": "stream",
     "text": [
      "H e l l o W o r l d \n",
      "\n",
      "10 9 8 7 6 5 4 3 2 1 "
     ]
    }
   ],
   "source": [
    "#Q1\n",
    "#Use of for loop to find characters of a string\n",
    "str= \"HelloWorld\"\n",
    "for i in str:\n",
    "    print(i,end=\" \")\n",
    "print(\"\\n\")  \n",
    "#use of while loop to print no upto 10 in reverse order\n",
    "n=10\n",
    "while(n>0):\n",
    "    print(n,end=\" \")\n",
    "    n=n-1"
   ]
  },
  {
   "cell_type": "code",
   "execution_count": 6,
   "id": "f9849c1d-6b2d-493f-945f-30c0ad7715b7",
   "metadata": {},
   "outputs": [
    {
     "name": "stdout",
     "output_type": "stream",
     "text": [
      "55\n",
      "3628800\n"
     ]
    }
   ],
   "source": [
    "#Q2\n",
    "s=0\n",
    "p=1\n",
    "i=1\n",
    "while i<=10:\n",
    "    s=s+i\n",
    "    p=p*i\n",
    "    i=i+1\n",
    "print(s)\n",
    "print(p)"
   ]
  },
  {
   "cell_type": "code",
   "execution_count": 3,
   "id": "d585ad94-0b03-40ef-b626-1672a334e9c3",
   "metadata": {},
   "outputs": [
    {
     "name": "stdin",
     "output_type": "stream",
     "text": [
      "Enter the unit 310\n"
     ]
    },
    {
     "name": "stdout",
     "output_type": "stream",
     "text": [
      "total bill= 2250.0\n"
     ]
    }
   ],
   "source": [
    "#Q3\n",
    "unit=int(input(\"Enter the unit\"))\n",
    "p=0\n",
    "if unit<=100:\n",
    "    p=4.5*unit\n",
    "elif unit>100 and unit<=200:\n",
    "    p=4.5*100+6*(unit-100)   \n",
    "elif unit>200 and unit<=300:\n",
    "    p=4.5*100+6*100+10*(unit-200)\n",
    "elif unit>300:\n",
    "    p= p=4.5*100+6*100+10*100+20*(unit-300)\n",
    "print(\"total bill=\",p)"
   ]
  },
  {
   "cell_type": "code",
   "execution_count": 4,
   "id": "cc0aa105-73d2-49b4-a912-2ab24c03b361",
   "metadata": {},
   "outputs": [
    {
     "name": "stdout",
     "output_type": "stream",
     "text": [
      "[8, 64, 125, 216, 512, 1000, 1728, 2744, 3375, 4096, 5832, 8000, 10648, 13824, 15625, 17576, 21952, 27000, 32768, 39304, 42875, 46656, 54872, 64000, 74088, 85184, 91125, 97336, 110592, 125000, 140608, 157464, 166375, 175616, 195112, 216000, 238328, 262144, 274625, 287496, 314432, 343000, 373248, 405224, 421875, 438976, 474552, 512000, 551368, 592704, 614125, 636056, 681472, 729000, 778688, 830584, 857375, 884736, 941192, 1000000]\n"
     ]
    }
   ],
   "source": [
    "#Q4\n",
    "l1=[]\n",
    "no=1\n",
    "for i in range(1,101):\n",
    "    no=pow(i,3)\n",
    "    if no%4==0 or no%5==0:\n",
    "        l1.append(no)\n",
    "print(l1)"
   ]
  },
  {
   "cell_type": "code",
   "execution_count": 5,
   "id": "37445a21-5e2a-464a-b7dc-cf37bd8d3318",
   "metadata": {},
   "outputs": [
    {
     "name": "stdin",
     "output_type": "stream",
     "text": [
      "Enter string: I want to become a data scientist\n"
     ]
    },
    {
     "name": "stdout",
     "output_type": "stream",
     "text": [
      "Number of vowels are:\n",
      "12\n"
     ]
    }
   ],
   "source": [
    "#Q5\n",
    "string=input(\"Enter string:\")\n",
    "vowels=0\n",
    "for i in string:\n",
    "      if(i=='a' or i=='e' or i=='i' or i=='o' or i=='u' or i=='A' or i=='E' or i=='I' or i=='O' or i=='U'):\n",
    "            vowels=vowels+1\n",
    "print(\"Number of vowels are:\")\n",
    "print(vowels)"
   ]
  }
 ],
 "metadata": {
  "kernelspec": {
   "display_name": "Python 3 (ipykernel)",
   "language": "python",
   "name": "python3"
  },
  "language_info": {
   "codemirror_mode": {
    "name": "ipython",
    "version": 3
   },
   "file_extension": ".py",
   "mimetype": "text/x-python",
   "name": "python",
   "nbconvert_exporter": "python",
   "pygments_lexer": "ipython3",
   "version": "3.10.8"
  }
 },
 "nbformat": 4,
 "nbformat_minor": 5
}
