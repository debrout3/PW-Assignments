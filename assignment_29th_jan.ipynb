{
 "cells": [
  {
   "cell_type": "code",
   "execution_count": null,
   "id": "afc58ad1-928e-4ab6-821f-163ae46c60d0",
   "metadata": {},
   "outputs": [],
   "source": [
    "\"\"\"\n",
    "1.Python programming language was developed by Guido van Rossum in the late 1980s and was first released in 1991.\n",
    "2.Python supports multiple programming paradigms, including procedural programming, object-oriented programming, functional programming, and scripting.\n",
    "3.Yes, Python is a case-sensitive language when it comes to identifiers.\n",
    "4.The standard file extension for Python files is .py.\n",
    "5.Python code is interpreted, which means that it is executed line by line by the Python interpreter without the need for compilation.\n",
    "6.Blocks of code in Python are defined using indentation. Some examples of code blocks in Python include function definitions, class definitions, and loops.\n",
    "7.The # symbol is used to give single-line comments in Python.\n",
    "8.The functions sys.version and platform.python_version() can be used to find the version of Python that you are currently working on.\n",
    "9.Python supports the creation of anonymous functions at runtime, using a construct called lambda functions.\n",
    "10.pip stands for \"Pip Installs Packages\" or \"Pip Installs Python\".\n",
    "11.Some built-in functions in Python include print(), len(), range(), type(), input(), and open().\n",
    "12.The maximum possible length of an identifier in Python is implementation-dependent. In most implementations, the maximum length is 255 characters.\n",
    "13.Some benefits of using Python include its ease of use and readability, its versatility and flexibility, its large standard library and ecosystem of third-party packages, and its community support and resources.\n",
    "14.Memory management in Python is handled automatically by the Python interpreter using a technique called garbage collection. When objects are no longer needed, the interpreter frees up their memory automatically.\n",
    "15.To install Python on Windows, you can download the installer from the official Python website and run it. To set path variables, you can add the path to the Python executable to your system's PATH environment variable.\n",
    "16.Yes, indentation is required in Python to indicate the beginning and end of code blocks.\"\"\""
   ]
  }
 ],
 "metadata": {
  "kernelspec": {
   "display_name": "Python 3 (ipykernel)",
   "language": "python",
   "name": "python3"
  },
  "language_info": {
   "codemirror_mode": {
    "name": "ipython",
    "version": 3
   },
   "file_extension": ".py",
   "mimetype": "text/x-python",
   "name": "python",
   "nbconvert_exporter": "python",
   "pygments_lexer": "ipython3",
   "version": "3.10.8"
  }
 },
 "nbformat": 4,
 "nbformat_minor": 5
}
