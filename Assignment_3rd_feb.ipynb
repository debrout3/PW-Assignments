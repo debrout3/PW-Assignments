{
 "cells": [
  {
   "cell_type": "code",
   "execution_count": 14,
   "id": "8ef75ca1-a8e5-487c-a48f-b18c4697ab9b",
   "metadata": {},
   "outputs": [
    {
     "name": "stdout",
     "output_type": "stream",
     "text": [
      "[1, 3, 5, 7, 9, 11, 13, 15, 17, 19, 21, 23, 25]\n"
     ]
    }
   ],
   "source": [
    "#Q1\n",
    "#def keyword is used to create a function\n",
    "l1=[]\n",
    "def odd():\n",
    "    for i in range(1,27,2):\n",
    "        l1.append(i)\n",
    "    print(l1)\n",
    "odd()"
   ]
  },
  {
   "cell_type": "code",
   "execution_count": 9,
   "id": "5a8d2840-609d-4d76-af74-6801e4cbb48e",
   "metadata": {},
   "outputs": [
    {
     "name": "stdout",
     "output_type": "stream",
     "text": [
      "print all the arguments\n",
      "debaraj\n",
      "Rout\n",
      "India\n",
      "arg1: Debaraj\n",
      "arg2: Rout\n",
      "arg3: India\n"
     ]
    }
   ],
   "source": [
    "#Q2\n",
    "#*args is used whe we try to provide non keyword arguments\n",
    "def function(*args):\n",
    "    print(\"print all the arguments\")\n",
    "    for i in args:\n",
    "        print(i)\n",
    "function(\"debaraj\",\"Rout\",\"India\")\n",
    "\n",
    "#**kwargs is used when we want to provide key word arguments\n",
    "def myFun(arg1, arg2, arg3):\n",
    "    print(\"arg1:\", arg1)\n",
    "    print(\"arg2:\", arg2)\n",
    "    print(\"arg3:\", arg3)\n",
    "kwargs = {\"arg1\": \"Debaraj\",\"arg2\":\"Rout\",\"arg3\":\"India\"}\n",
    "myFun(**kwargs)"
   ]
  },
  {
   "cell_type": "code",
   "execution_count": 11,
   "id": "cdf0e9ed-cfa3-409b-90aa-32868ef928d9",
   "metadata": {},
   "outputs": [
    {
     "name": "stdout",
     "output_type": "stream",
     "text": [
      "2\n",
      "4\n",
      "6\n",
      "8\n",
      "10\n"
     ]
    }
   ],
   "source": [
    "#Q3\n",
    "#Iterator in python is an object that used to iterate over iterable objects like lists,tuples,strings and sets\n",
    "#method used to initialize the iterator object is __iter__()\n",
    "#method used for iteration is __next__()\n",
    "my_list=[2, 4, 6, 8, 10, 12, 14,16, 18, 20]\n",
    "iterator=iter(my_list)\n",
    "print(next(iterator))\n",
    "print(next(iterator))\n",
    "print(next(iterator))\n",
    "print(next(iterator))\n",
    "print(next(iterator))"
   ]
  },
  {
   "cell_type": "code",
   "execution_count": 13,
   "id": "0aa3bf00-37e4-4e04-a52f-7c4ceef7a966",
   "metadata": {},
   "outputs": [
    {
     "name": "stdout",
     "output_type": "stream",
     "text": [
      "0\n",
      "2\n",
      "4\n",
      "6\n",
      "8\n"
     ]
    }
   ],
   "source": [
    "#Q4\n",
    "'''A generator function in Python is a special type of function that generates a sequence of values or objects using the yield keyword.\n",
    "When a generator function is called, it returns a generator object, which can be iterated over using a for loop, list comprehension, or any other iterable in Python.\n",
    "'''\n",
    "\n",
    "def even_numbers(limit):\n",
    "    for i in range(0, limit, 2):\n",
    "        yield i\n",
    "for number in even_numbers(10):\n",
    "    print(number)\n"
   ]
  },
  {
   "cell_type": "code",
   "execution_count": 32,
   "id": "f653df6e-c77f-44cd-bb76-362d2f1cd86b",
   "metadata": {},
   "outputs": [
    {
     "name": "stdout",
     "output_type": "stream",
     "text": [
      "2\n",
      "3\n",
      "5\n",
      "7\n",
      "11\n",
      "13\n",
      "17\n",
      "19\n",
      "23\n",
      "29\n",
      "31\n",
      "37\n",
      "41\n",
      "43\n",
      "47\n",
      "53\n",
      "59\n",
      "61\n",
      "67\n",
      "71\n"
     ]
    }
   ],
   "source": [
    "#Q5\n",
    "def primes():\n",
    "    yield 2\n",
    "    primes_list = [2]\n",
    "    current_number = 3\n",
    "    while current_number < 1000:\n",
    "        is_prime = True\n",
    "        for prime in primes_list:\n",
    "            if current_number % prime == 0:\n",
    "                is_prime = False\n",
    "                break\n",
    "        if is_prime:\n",
    "            primes_list.append(current_number)\n",
    "            yield current_number\n",
    "        current_number=current_number+1\n",
    "prime_generator=primes()\n",
    "for i in range(20):\n",
    "    print(next(prime_generator))"
   ]
  },
  {
   "cell_type": "code",
   "execution_count": 35,
   "id": "0b568d8e-ad36-4bff-95ac-606a159558e6",
   "metadata": {},
   "outputs": [
    {
     "name": "stdout",
     "output_type": "stream",
     "text": [
      "0\n",
      "1\n",
      "1\n",
      "2\n",
      "3\n",
      "5\n",
      "8\n",
      "13\n",
      "21\n",
      "34\n"
     ]
    }
   ],
   "source": [
    "#Q6\n",
    "a,b=0,1\n",
    "c=0\n",
    "counter=0\n",
    "while counter<10:\n",
    "    print(a)\n",
    "    c=a+b\n",
    "    a=b\n",
    "    b=c\n",
    "    counter=counter+1"
   ]
  },
  {
   "cell_type": "code",
   "execution_count": 45,
   "id": "c2806a95-2b28-41e3-9447-3c5e7e7f48a5",
   "metadata": {},
   "outputs": [
    {
     "name": "stdout",
     "output_type": "stream",
     "text": [
      "['p', 'w', 's', 'k', 'i', 'l', 'l', 's']\n"
     ]
    }
   ],
   "source": [
    "#Q7\n",
    "str=\"pwskills\"\n",
    "l1=list(str)\n",
    "print(l1)"
   ]
  },
  {
   "cell_type": "code",
   "execution_count": 65,
   "id": "546953bb-b509-4261-91c6-3778f73aa6e0",
   "metadata": {},
   "outputs": [
    {
     "name": "stdin",
     "output_type": "stream",
     "text": [
      "Enter a number:  363\n"
     ]
    },
    {
     "name": "stdout",
     "output_type": "stream",
     "text": [
      "363 is a palindrome number\n"
     ]
    }
   ],
   "source": [
    "#Q8\n",
    "num = int(input(\"Enter a number: \"))\n",
    "temp = num\n",
    "reverse = 0\n",
    "\n",
    "while temp > 0:\n",
    "    digit = temp % 10\n",
    "    reverse = (reverse * 10) + digit\n",
    "    temp =temp//10\n",
    "\n",
    "if num == reverse:\n",
    "    print(num, \"is a palindrome number\")\n",
    "else:\n",
    "    print(num, \"is not a palindrome number\")"
   ]
  },
  {
   "cell_type": "code",
   "execution_count": 69,
   "id": "b24bddd3-181c-4ab0-a7b4-4cad55d58349",
   "metadata": {},
   "outputs": [
    {
     "name": "stdout",
     "output_type": "stream",
     "text": [
      "[1, 3, 5, 7, 9, 11, 13, 15, 17, 19, 21, 23, 25, 27, 29, 31, 33, 35, 37, 39, 41, 43, 45, 47, 49, 51, 53, 55, 57, 59, 61, 63, 65, 67, 69, 71, 73, 75, 77, 79, 81, 83, 85, 87, 89, 91, 93, 95, 97, 99]\n"
     ]
    }
   ],
   "source": [
    "#Q9\n",
    "odd_numbers = [num for num in range(1, 101) if num % 2 != 0]\n",
    "\n",
    "print(odd_numbers)"
   ]
  },
  {
   "cell_type": "code",
   "execution_count": null,
   "id": "38eaec71-65df-4212-a207-276abdece582",
   "metadata": {},
   "outputs": [],
   "source": []
  }
 ],
 "metadata": {
  "kernelspec": {
   "display_name": "Python 3 (ipykernel)",
   "language": "python",
   "name": "python3"
  },
  "language_info": {
   "codemirror_mode": {
    "name": "ipython",
    "version": 3
   },
   "file_extension": ".py",
   "mimetype": "text/x-python",
   "name": "python",
   "nbconvert_exporter": "python",
   "pygments_lexer": "ipython3",
   "version": "3.10.8"
  }
 },
 "nbformat": 4,
 "nbformat_minor": 5
}
