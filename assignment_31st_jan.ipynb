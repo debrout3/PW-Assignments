{
 "cells": [
  {
   "cell_type": "code",
   "execution_count": 3,
   "id": "b8457772-825c-48c9-abec-e7c3d9e90dd3",
   "metadata": {},
   "outputs": [
    {
     "name": "stdin",
     "output_type": "stream",
     "text": [
      "Enter percentage 65\n"
     ]
    },
    {
     "name": "stdout",
     "output_type": "stream",
     "text": [
      "Grade c\n"
     ]
    }
   ],
   "source": [
    "#Q1\n",
    "per=int(input(\"Enter percentage\"))\n",
    "if per>90:\n",
    "        print(\"Grade A\")\n",
    "elif per>80 and per<=90:\n",
    "        print(\"Grade B\")\n",
    "elif per>=60 and per<=80:\n",
    "        print(\"Grade c\")\n",
    "else:\n",
    "        print(\"Grade D\")"
   ]
  },
  {
   "cell_type": "code",
   "execution_count": 5,
   "id": "f087ff8a-0106-4645-a704-8e1a2a191f73",
   "metadata": {},
   "outputs": [
    {
     "name": "stdin",
     "output_type": "stream",
     "text": [
      "Enter the bike price 60000\n"
     ]
    },
    {
     "name": "stdout",
     "output_type": "stream",
     "text": [
      "Tax 6000.0\n"
     ]
    }
   ],
   "source": [
    "#Q2\n",
    "cost=int(input(\"Enter the bike price\"))\n",
    "if cost>100000:\n",
    "    print(\"Tax\",cost*.15)\n",
    "elif cost>50000 and cost<=100000:\n",
    "    print(\"Tax\",cost*.10)\n",
    "else:\n",
    "    print(\"Tax\",cost*.05)\n"
   ]
  },
  {
   "cell_type": "code",
   "execution_count": 7,
   "id": "16ec03cf-3d70-4119-9f1e-7a6d52fb5ac4",
   "metadata": {},
   "outputs": [
    {
     "name": "stdin",
     "output_type": "stream",
     "text": [
      "Enter the city Agra\n"
     ]
    },
    {
     "name": "stdout",
     "output_type": "stream",
     "text": [
      "Taj Mahal\n"
     ]
    }
   ],
   "source": [
    "#Q3\n",
    "city=input(\"Enter the city\")\n",
    "if city == \"Delhi\":\n",
    "    print(\"Redfort\")\n",
    "elif city==\"Agra\":\n",
    "    print(\"Taj Mahal\")\n",
    "elif city==\"Jaipur\":\n",
    "    print(\"Jal Mahal\")\n",
    "else:\n",
    "    print(\"Enter a valid city\")"
   ]
  },
  {
   "cell_type": "code",
   "execution_count": 4,
   "id": "06cc18dc-5898-4196-92df-7881bf39419d",
   "metadata": {},
   "outputs": [
    {
     "name": "stdin",
     "output_type": "stream",
     "text": [
      "Enter a number:  50\n"
     ]
    },
    {
     "name": "stdout",
     "output_type": "stream",
     "text": [
      "The number can be divided by 3 3 times before it is less than or equal to 10.\n"
     ]
    }
   ],
   "source": [
    "#Q4\n",
    "num = int(input(\"Enter a number: \"))\n",
    "count = 0\n",
    "while num > 10:\n",
    "    num = num/2\n",
    "    count = count+1\n",
    "\n",
    "print(\"The number can be divided by 3\", count, \"times before it is less than or equal to 10.\")\n"
   ]
  },
  {
   "cell_type": "code",
   "execution_count": 5,
   "id": "1518ed5b-24a8-401c-8144-5e6b26e689dc",
   "metadata": {},
   "outputs": [
    {
     "name": "stdout",
     "output_type": "stream",
     "text": [
      "10\n",
      "9\n",
      "8\n",
      "7\n",
      "6\n",
      "5\n",
      "4\n",
      "3\n",
      "2\n",
      "1\n"
     ]
    }
   ],
   "source": [
    "#Q5\n",
    "\"\"\"A while loop in Python is a type of loop that repeats a block of code as long as a specified condition is true.\"\"\"\n",
    "n=10\n",
    "while n>0:\n",
    "    print(n)\n",
    "    n=n-1    "
   ]
  },
  {
   "cell_type": "code",
   "execution_count": 9,
   "id": "1721b03a-8b12-4a86-bf2c-199006200568",
   "metadata": {},
   "outputs": [
    {
     "name": "stdout",
     "output_type": "stream",
     "text": [
      "1\n",
      "12\n",
      "123\n",
      "1234\n",
      "12345\n",
      "\n",
      "1\n",
      "22\n",
      "333\n",
      "4444\n",
      "55555\n",
      "\n",
      "12345\n",
      "1234\n",
      "123\n",
      "12\n",
      "1\n"
     ]
    }
   ],
   "source": [
    "#Q6\n",
    "n = 5\n",
    "i = 1\n",
    "while i <= n:\n",
    "    j = 1\n",
    "    while j <= i:\n",
    "        print(j, end=\"\")\n",
    "        j += 1\n",
    "    print()\n",
    "    i += 1\n",
    "print()\n",
    "n = 5\n",
    "i = 1\n",
    "\n",
    "while i <= n:\n",
    "    j = 1\n",
    "    while j <= i:\n",
    "        print(i, end=\"\")\n",
    "        j += 1\n",
    "    print()\n",
    "    i += 1\n",
    "\n",
    "print()    \n",
    "n = 1\n",
    "i = 5\n",
    "while i >= n:\n",
    "    j = 1\n",
    "    while j <= i:\n",
    "        print(j, end=\"\")\n",
    "        j += 1\n",
    "    print()\n",
    "    i -= 1    "
   ]
  },
  {
   "cell_type": "code",
   "execution_count": null,
   "id": "1dfe3a94-173b-4df4-ad2c-cae4129d099b",
   "metadata": {},
   "outputs": [],
   "source": []
  }
 ],
 "metadata": {
  "kernelspec": {
   "display_name": "Python 3 (ipykernel)",
   "language": "python",
   "name": "python3"
  },
  "language_info": {
   "codemirror_mode": {
    "name": "ipython",
    "version": 3
   },
   "file_extension": ".py",
   "mimetype": "text/x-python",
   "name": "python",
   "nbconvert_exporter": "python",
   "pygments_lexer": "ipython3",
   "version": "3.10.8"
  }
 },
 "nbformat": 4,
 "nbformat_minor": 5
}
