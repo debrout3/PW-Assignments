{
 "cells": [
  {
   "cell_type": "code",
   "execution_count": null,
   "id": "eba0f7d8-0cb3-4fc8-8954-fcb6de9352fc",
   "metadata": {},
   "outputs": [],
   "source": [
    "#Q1\n",
    "'''Database is a collection of Datas of different type and different sizes\n",
    "SQL means Structured Query Language which stores similaar types of data in a tabular format\n",
    "NOSQL means Not structured query language which stores data of different formats'''"
   ]
  },
  {
   "cell_type": "code",
   "execution_count": null,
   "id": "9b67d3ae-8543-4306-8be3-07dad3337a45",
   "metadata": {},
   "outputs": [],
   "source": [
    "#Q2\n",
    "'''DDL stands for Data Defination language. These commands are used to change the structure of a database and database objects.\n",
    "For example, DDL commands can be used to add, remove, or modify tables with in a database.\n",
    "1.CREATE\n",
    "This command is used to create table in the relational database . \n",
    "This can be done by specifying the names and datatypes of various columns. \n",
    "CREATE TABLE TABLE_NAME\n",
    "(\n",
    "    column_name1 datatype1,\n",
    "    column_name2 datatype2,\n",
    "    column_name3 datatype3,\n",
    "    column_name4 datatype4\n",
    ");\n",
    "2.ALTER\n",
    "Alter command is used for altering the table in many forms like: \n",
    "a.Add a column\n",
    "b.Rename existing column\n",
    "c.Drop a column\n",
    "d.Modify the size of the column or change datatype of the column\n",
    "\n",
    "ALTER TABLE Student \n",
    "ADD\n",
    "(Address  VARCHAR(200)); \n",
    "\n",
    "3.DROP\n",
    "This command completely removes the table from the database along with the destruction of the table structure. \n",
    "DROP TABLE table_name;\n",
    "\n",
    "4.TRUNCATE\n",
    "This command removes all the records from a table. But this command will not destroy the table’s structure. \n",
    "TRUNCATE TABLE table_name;  '''"
   ]
  },
  {
   "cell_type": "code",
   "execution_count": null,
   "id": "421a3f1e-016e-4245-b553-6fdb7e6a5609",
   "metadata": {},
   "outputs": [],
   "source": [
    "#Q3\n",
    "'''DML is an abbreviation of Data Manipulation Language.\n",
    "The DML commands in Structured Query Language change the data present in the SQL database. \n",
    "We can easily access, store, modify, update and delete the existing records from the database using DML commands.\n",
    "a.INSERT\n",
    "INSERT is an important data manipulation command in Structured Query Language, which allows users to insert data in database tables.\n",
    "INSERT INTO TABLE_NAME ( column_Name1 , column_Name2 , column_Name3 , .... column_NameN )  VALUES (value_1, value_2, value_3, .... value_N ) ;\n",
    "b.UPDATE\n",
    "UPDATE is another most important data manipulation command in Structured Query Language, which allows users to update or modify the existing data in database tables.\n",
    "UPDATE Table_name SET [column_name1= value_1, ….., column_nameN = value_N] WHERE CONDITION;  \n",
    "c.DELETE\n",
    "DELETE is a DML command which allows SQL users to remove single or multiple existing records from the database tables.\n",
    "This command of Data Manipulation Language does not delete the stored data permanently from the database. \n",
    "We use the WHERE clause with the DELETE command to select specific rows from the table.\n",
    "DELETE FROM Table_Name WHERE condition;'''"
   ]
  },
  {
   "cell_type": "code",
   "execution_count": null,
   "id": "74994f95-6ca7-4d6f-87e9-c45718e28878",
   "metadata": {},
   "outputs": [],
   "source": [
    "#Q4\n",
    "'''DQL statements are used for performing queries on the data within schema objects. \n",
    "The purpose of the DQL Command is to get some schema relation based on the query passed to it.\n",
    "We can define DQL as follows it is a component of SQL statement that allows getting data from the database and imposing order upon it. \n",
    "It includes the SELECT statement. This command allows getting the data out of the database to perform operations with it. \n",
    "When a SELECT is fired against a table or tables the result is compiled into a further temporary table, which is displayed or perhaps received by the program i.e. a front-end.\n",
    "\n",
    "SELECT * FROM TABLE_NAME; This command returns all the datas stored in the table."
   ]
  },
  {
   "cell_type": "code",
   "execution_count": null,
   "id": "52430e64-0a0f-4b7c-a1f9-3da74d3a6340",
   "metadata": {},
   "outputs": [],
   "source": [
    "#Q5\n",
    "'''The PRIMARY KEY constraint uniquely identifies each record in a table.\n",
    "Primary keys must contain UNIQUE values, and cannot contain NULL values.\n",
    "A table can have only ONE primary key; and in the table, this primary key can consist of single or multiple columns (fields).\n",
    "A FOREIGN KEY is a field (or collection of fields) in one table, that refers to the PRIMARY KEY in another table."
   ]
  },
  {
   "cell_type": "code",
   "execution_count": null,
   "id": "a95b2099-a69e-42ea-88af-8ec77a67ec90",
   "metadata": {},
   "outputs": [],
   "source": [
    "#Q6\n",
    "'''import mysql.connector\n",
    "mydb = mysql.connector.connect(\n",
    "  host=\"localhost\",\n",
    "  user=\"abc\",\n",
    "  password=\"password\"\n",
    ")\n",
    "\n",
    "cursor()\n",
    "It is an object that is used to make the connection for executing SQL queries.\n",
    "It acts as middleware between SQLite database connection and SQL\n",
    "\n",
    "execute()\n",
    "It is a method used to execute a sql querry against a database.'''"
   ]
  },
  {
   "cell_type": "code",
   "execution_count": null,
   "id": "a90108dd-74a2-4768-a272-3c8234033456",
   "metadata": {},
   "outputs": [],
   "source": [
    "#Q7\n",
    "'''1. FROM / JOIN\n",
    "2.WHERE\n",
    "3.GROUP BY\n",
    "4.HAVING\n",
    "5.SELECT\n",
    "6.ORDER BY\n",
    "7.LIMIT/OFFSET'''"
   ]
  }
 ],
 "metadata": {
  "kernelspec": {
   "display_name": "Python 3 (ipykernel)",
   "language": "python",
   "name": "python3"
  },
  "language_info": {
   "codemirror_mode": {
    "name": "ipython",
    "version": 3
   },
   "file_extension": ".py",
   "mimetype": "text/x-python",
   "name": "python",
   "nbconvert_exporter": "python",
   "pygments_lexer": "ipython3",
   "version": "3.10.8"
  }
 },
 "nbformat": 4,
 "nbformat_minor": 5
}
